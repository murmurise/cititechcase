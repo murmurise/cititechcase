{
 "cells": [
  {
   "cell_type": "code",
   "execution_count": 80,
   "metadata": {
    "collapsed": true
   },
   "outputs": [],
   "source": [
    "import bt"
   ]
  },
  {
   "cell_type": "code",
   "execution_count": 81,
   "metadata": {},
   "outputs": [],
   "source": [
    "# fetch some data\n",
    "data = bt.get('spy,agg', start='2010-01-02')"
   ]
  },
  {
   "cell_type": "code",
   "execution_count": 82,
   "metadata": {},
   "outputs": [
    {
     "name": "stdout",
     "output_type": "stream",
     "text": [
      "                  spy        agg\n",
      "Date                            \n",
      "2010-01-04  96.833588  83.558380\n",
      "2010-01-05  97.089912  83.938553\n",
      "2010-01-06  97.158264  83.889999\n",
      "2010-01-07  97.568398  83.792946\n",
      "2010-01-08  97.893082  83.841484\n"
     ]
    }
   ],
   "source": [
    "print(data.head())"
   ]
  },
  {
   "cell_type": "code",
   "execution_count": 83,
   "metadata": {},
   "outputs": [
    {
     "name": "stdout",
     "output_type": "stream",
     "text": [
      "<Strategy s1>\n"
     ]
    }
   ],
   "source": [
    "# create the strategy\n",
    "s = bt.Strategy('s1', [bt.algos.RunMonthly(),\n",
    "                       bt.algos.SelectAll(),\n",
    "                       bt.algos.WeighEqually(),\n",
    "                       bt.algos.Rebalance()])\n",
    "print(s)"
   ]
  },
  {
   "cell_type": "code",
   "execution_count": 84,
   "metadata": {},
   "outputs": [
    {
     "name": "stdout",
     "output_type": "stream",
     "text": [
      "s1\n",
      "0% [############################# ] 100% | ETA: 00:00:00"
     ]
    }
   ],
   "source": [
    "# create a backtest and run it\n",
    "test = bt.Backtest(s, data)\n",
    "res = bt.run(test)"
   ]
  },
  {
   "cell_type": "code",
   "execution_count": 96,
   "metadata": {},
   "outputs": [],
   "source": [
    "# first let's see an equity curve\n",
    "res.plot()"
   ]
  },
  {
   "cell_type": "code",
   "execution_count": 91,
   "metadata": {},
   "outputs": [
    {
     "name": "stdout",
     "output_type": "stream",
     "text": [
      "Stat                 s1\n",
      "-------------------  ----------\n",
      "Start                2010-01-03\n",
      "End                  2017-10-09\n",
      "Risk-free rate       0.00%\n",
      "\n",
      "Total Return         91.83%\n",
      "Daily Sharpe         1.23\n",
      "Daily Sortino        1.60\n",
      "CAGR                 8.75%\n",
      "Max Drawdown         -7.83%\n",
      "Calmar Ratio         1.12\n",
      "\n",
      "MTD                  0.57%\n",
      "3m                   3.25%\n",
      "6m                   5.57%\n",
      "YTD                  9.10%\n",
      "1Y                   10.19%\n",
      "3Y (ann.)            7.20%\n",
      "5Y (ann.)            8.18%\n",
      "10Y (ann.)           8.75%\n",
      "Since Incep. (ann.)  8.75%\n",
      "\n",
      "Daily Sharpe         1.23\n",
      "Daily Sortino        1.60\n",
      "Daily Mean (ann.)    8.64%\n",
      "Daily Vol (ann.)     7.00%\n",
      "Daily Skew           -0.36\n",
      "Daily Kurt           4.12\n",
      "Best Day             2.48%\n",
      "Worst Day            -3.11%\n",
      "\n",
      "Monthly Sharpe       1.47\n",
      "Monthly Sortino      2.60\n",
      "Monthly Mean (ann.)  8.60%\n",
      "Monthly Vol (ann.)   5.85%\n",
      "Monthly Skew         0.01\n",
      "Monthly Kurt         0.44\n",
      "Best Month           5.69%\n",
      "Worst Month          -3.39%\n",
      "\n",
      "Yearly Sharpe        1.98\n",
      "Yearly Sortino       -\n",
      "Yearly Mean          8.10%\n",
      "Yearly Vol           4.10%\n",
      "Yearly Skew          -0.44\n",
      "Yearly Kurt          0.73\n",
      "Best Year            14.10%\n",
      "Worst Year           1.17%\n",
      "\n",
      "Avg. Drawdown        -0.74%\n",
      "Avg. Drawdown Days   12.92\n",
      "Avg. Up Month        1.53%\n",
      "Avg. Down Month      -1.26%\n",
      "Win Year %           100.00%\n",
      "Win 12m %            96.39%\n"
     ]
    }
   ],
   "source": [
    "# ok and what about some stats?\n",
    "res.display()"
   ]
  },
  {
   "cell_type": "code",
   "execution_count": null,
   "metadata": {
    "collapsed": true
   },
   "outputs": [],
   "source": []
  }
 ],
 "metadata": {
  "kernelspec": {
   "display_name": "Python 3",
   "language": "python",
   "name": "python3"
  },
  "language_info": {
   "codemirror_mode": {
    "name": "ipython",
    "version": 3
   },
   "file_extension": ".py",
   "mimetype": "text/x-python",
   "name": "python",
   "nbconvert_exporter": "python",
   "pygments_lexer": "ipython3",
   "version": "3.6.2"
  }
 },
 "nbformat": 4,
 "nbformat_minor": 2
}
