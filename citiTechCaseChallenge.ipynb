{
 "cells": [
  {
   "cell_type": "code",
   "execution_count": 1,
   "metadata": {
    "collapsed": true
   },
   "outputs": [],
   "source": [
    "import bt"
   ]
  },
  {
   "cell_type": "code",
   "execution_count": 2,
   "metadata": {},
   "outputs": [
    {
     "name": "stdout",
     "output_type": "stream",
     "text": [
      "Enter the first asset: AGG\n"
     ]
    }
   ],
   "source": [
    "asset1 = input(\"Enter the first asset: \")"
   ]
  },
  {
   "cell_type": "code",
   "execution_count": 3,
   "metadata": {},
   "outputs": [
    {
     "name": "stdout",
     "output_type": "stream",
     "text": [
      "Enter the second asset: spy\n"
     ]
    }
   ],
   "source": [
    "asset2 = input(\"Enter the second asset: \")"
   ]
  },
  {
   "cell_type": "code",
   "execution_count": 4,
   "metadata": {},
   "outputs": [
    {
     "name": "stdout",
     "output_type": "stream",
     "text": [
      "https://query1.finance.yahoo.com/v7/finance/download/AGG?period1=1262361600&period2=1508670653&interval=1d&events=history&crumb=RM3P1GtQ1iv\n",
      "https://query1.finance.yahoo.com/v7/finance/download/SPY?period1=1262361600&period2=1508670654&interval=1d&events=history&crumb=RM3P1GtQ1iv\n"
     ]
    }
   ],
   "source": [
    "# fetch some data\n",
    "data = bt.get(asset1+\", \"+asset2, start='2010-01-02')"
   ]
  },
  {
   "cell_type": "code",
   "execution_count": 5,
   "metadata": {
    "scrolled": true
   },
   "outputs": [
    {
     "name": "stdout",
     "output_type": "stream",
     "text": [
      "                  agg        spy\n",
      "Date                            \n",
      "2010-01-04  83.558380  96.833588\n",
      "2010-01-05  83.938553  97.089912\n",
      "2010-01-06  83.889999  97.158264\n",
      "2010-01-07  83.792946  97.568398\n",
      "2010-01-08  83.841484  97.893082\n"
     ]
    }
   ],
   "source": [
    "print(data.head())"
   ]
  },
  {
   "cell_type": "code",
   "execution_count": 6,
   "metadata": {},
   "outputs": [
    {
     "name": "stdout",
     "output_type": "stream",
     "text": [
      "<Strategy s1>\n"
     ]
    }
   ],
   "source": [
    "# create the strategy\n",
    "s = bt.Strategy('s1', [bt.algos.RunMonthly(),\n",
    "                       bt.algos.SelectAll(),\n",
    "                       bt.algos.WeighEqually(),\n",
    "                       bt.algos.Rebalance()])\n",
    "print(s)"
   ]
  },
  {
   "cell_type": "code",
   "execution_count": 7,
   "metadata": {},
   "outputs": [
    {
     "name": "stdout",
     "output_type": "stream",
     "text": [
      "s1\n",
      "0% [############################# ] 100% | ETA: 00:00:00"
     ]
    }
   ],
   "source": [
    "# create a backtest and run it\n",
    "test = bt.Backtest(s, data)\n",
    "res = bt.run(test)"
   ]
  },
  {
   "cell_type": "code",
   "execution_count": 8,
   "metadata": {
    "collapsed": true
   },
   "outputs": [],
   "source": [
    "# first let's see an equity curve\n",
    "res.plot()"
   ]
  },
  {
   "cell_type": "code",
   "execution_count": 9,
   "metadata": {},
   "outputs": [
    {
     "name": "stdout",
     "output_type": "stream",
     "text": [
      "Stat                 s1\n",
      "-------------------  ----------\n",
      "Start                2010-01-03\n",
      "End                  2017-10-20\n",
      "Risk-free rate       0.00%\n",
      "\n",
      "Total Return         92.91%\n",
      "Daily Sharpe         1.24\n",
      "Daily Sortino        1.61\n",
      "CAGR                 8.80%\n",
      "Max Drawdown         -7.83%\n",
      "Calmar Ratio         1.12\n",
      "\n",
      "MTD                  1.14%\n",
      "3m                   2.39%\n",
      "6m                   5.71%\n",
      "YTD                  9.71%\n",
      "1Y                   11.02%\n",
      "3Y (ann.)            7.50%\n",
      "5Y (ann.)            8.39%\n",
      "10Y (ann.)           8.80%\n",
      "Since Incep. (ann.)  8.80%\n",
      "\n",
      "Daily Sharpe         1.24\n",
      "Daily Sortino        1.61\n",
      "Daily Mean (ann.)    8.67%\n",
      "Daily Vol (ann.)     6.99%\n",
      "Daily Skew           -0.36\n",
      "Daily Kurt           4.15\n",
      "Best Day             2.48%\n",
      "Worst Day            -3.11%\n",
      "\n",
      "Monthly Sharpe       1.48\n",
      "Monthly Sortino      2.62\n",
      "Monthly Mean (ann.)  8.68%\n",
      "Monthly Vol (ann.)   5.85%\n",
      "Monthly Skew         -0.00\n",
      "Monthly Kurt         0.44\n",
      "Best Month           5.69%\n",
      "Worst Month          -3.39%\n",
      "\n",
      "Yearly Sharpe        1.98\n",
      "Yearly Sortino       -\n",
      "Yearly Mean          8.19%\n",
      "Yearly Vol           4.13%\n",
      "Yearly Skew          -0.50\n",
      "Yearly Kurt          0.63\n",
      "Best Year            14.10%\n",
      "Worst Year           1.17%\n",
      "\n",
      "Avg. Drawdown        -0.73%\n",
      "Avg. Drawdown Days   12.80\n",
      "Avg. Up Month        1.54%\n",
      "Avg. Down Month      -1.26%\n",
      "Win Year %           100.00%\n",
      "Win 12m %            96.39%\n"
     ]
    }
   ],
   "source": [
    "# ok and what about some stats?\n",
    "res.display()"
   ]
  },
  {
   "cell_type": "code",
   "execution_count": 10,
   "metadata": {
    "collapsed": true
   },
   "outputs": [],
   "source": [
    "res.plot_histogram()"
   ]
  },
  {
   "cell_type": "code",
   "execution_count": 11,
   "metadata": {},
   "outputs": [
    {
     "name": "stdout",
     "output_type": "stream",
     "text": [
      "s2\n",
      "0% [############################# ] 100% | ETA: 00:00:00"
     ]
    }
   ],
   "source": [
    "# create our new strategy\n",
    "s2 = bt.Strategy('s2', [bt.algos.RunWeekly(),\n",
    "                        bt.algos.SelectAll(),\n",
    "                        bt.algos.WeighInvVol(),\n",
    "                        bt.algos.Rebalance()])\n",
    "# now let's test it with the same data set. We will also compare it with our first backtest.\n",
    "test2 = bt.Backtest(s2, data)\n",
    "# we include test here to see the results side-by-side\n",
    "res2 = bt.run(test, test2)\n",
    "\n",
    "res2.plot()"
   ]
  },
  {
   "cell_type": "code",
   "execution_count": 12,
   "metadata": {},
   "outputs": [
    {
     "name": "stdout",
     "output_type": "stream",
     "text": [
      "Stat                 s1          s2\n",
      "-------------------  ----------  ----------\n",
      "Start                2010-01-03  2010-01-03\n",
      "End                  2017-10-20  2017-10-20\n",
      "Risk-free rate       0.00%       0.00%\n",
      "\n",
      "Total Return         92.91%      47.13%\n",
      "Daily Sharpe         1.24        1.53\n",
      "Daily Sortino        1.61        2.11\n",
      "CAGR                 8.80%       5.08%\n",
      "Max Drawdown         -7.83%      -4.07%\n",
      "Calmar Ratio         1.12        1.25\n",
      "\n",
      "MTD                  1.14%       0.56%\n",
      "3m                   2.39%       1.30%\n",
      "6m                   5.71%       3.64%\n",
      "YTD                  9.71%       6.86%\n",
      "1Y                   11.02%      5.69%\n",
      "3Y (ann.)            7.50%       4.08%\n",
      "5Y (ann.)            8.39%       4.32%\n",
      "10Y (ann.)           8.80%       5.08%\n",
      "Since Incep. (ann.)  8.80%       5.08%\n",
      "\n",
      "Daily Sharpe         1.24        1.53\n",
      "Daily Sortino        1.61        2.11\n",
      "Daily Mean (ann.)    8.67%       5.01%\n",
      "Daily Vol (ann.)     6.99%       3.27%\n",
      "Daily Skew           -0.36       -0.28\n",
      "Daily Kurt           4.15        2.92\n",
      "Best Day             2.48%       1.20%\n",
      "Worst Day            -3.11%      -1.13%\n",
      "\n",
      "Monthly Sharpe       1.48        1.79\n",
      "Monthly Sortino      2.62        2.66\n",
      "Monthly Mean (ann.)  8.68%       5.18%\n",
      "Monthly Vol (ann.)   5.85%       2.90%\n",
      "Monthly Skew         -0.00       -0.60\n",
      "Monthly Kurt         0.44        0.21\n",
      "Best Month           5.69%       1.91%\n",
      "Worst Month          -3.39%      -2.08%\n",
      "\n",
      "Yearly Sharpe        1.98        1.84\n",
      "Yearly Sortino       -           -\n",
      "Yearly Mean          8.19%       4.74%\n",
      "Yearly Vol           4.13%       2.57%\n",
      "Yearly Skew          -0.50       -1.14\n",
      "Yearly Kurt          0.63        1.32\n",
      "Best Year            14.10%      7.02%\n",
      "Worst Year           1.17%       -0.12%\n",
      "\n",
      "Avg. Drawdown        -0.73%      -0.38%\n",
      "Avg. Drawdown Days   12.80       12.57\n",
      "Avg. Up Month        1.54%       0.81%\n",
      "Avg. Down Month      -1.26%      -0.67%\n",
      "Win Year %           100.00%     85.71%\n",
      "Win 12m %            96.39%      95.18%\n"
     ]
    }
   ],
   "source": [
    "res2.display()"
   ]
  }
 ],
 "metadata": {
  "kernelspec": {
   "display_name": "Python 3",
   "language": "python",
   "name": "python3"
  },
  "language_info": {
   "codemirror_mode": {
    "name": "ipython",
    "version": 3
   },
   "file_extension": ".py",
   "mimetype": "text/x-python",
   "name": "python",
   "nbconvert_exporter": "python",
   "pygments_lexer": "ipython3",
   "version": "3.6.2"
  }
 },
 "nbformat": 4,
 "nbformat_minor": 2
}
